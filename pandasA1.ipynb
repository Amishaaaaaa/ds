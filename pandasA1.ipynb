{
 "cells": [
  {
   "cell_type": "code",
   "execution_count": 2,
   "id": "adf8f9a0-23f9-4ef8-83be-809595ac2e1f",
   "metadata": {},
   "outputs": [],
   "source": [
    "import pandas as pd"
   ]
  },
  {
   "cell_type": "code",
   "execution_count": 3,
   "id": "01fbb44e-8ad2-4f62-8ace-3396ea6f14b2",
   "metadata": {},
   "outputs": [
    {
     "name": "stdout",
     "output_type": "stream",
     "text": [
      "0     4\n",
      "1     8\n",
      "2    15\n",
      "3    16\n",
      "4    23\n",
      "5    42\n",
      "dtype: int64\n"
     ]
    }
   ],
   "source": [
    "#Q1. Create a Pandas Series that contains the following data: 4, 8, 15, 16, 23, and 42. Then, print the series.\n",
    "\n",
    "data = [4, 8, 15, 16, 23, 42]\n",
    "series = pd.Series(data)\n",
    "print(series)"
   ]
  },
  {
   "cell_type": "code",
   "execution_count": 7,
   "id": "19aadf87-4c87-4e0f-96d1-12adbe82d182",
   "metadata": {},
   "outputs": [
    {
     "name": "stdout",
     "output_type": "stream",
     "text": [
      "0    1\n",
      "1    3\n",
      "2    6\n",
      "3    6\n",
      "4    4\n",
      "5    4\n",
      "6    3\n",
      "7    8\n",
      "8    6\n",
      "9    1\n",
      "dtype: int64\n"
     ]
    }
   ],
   "source": [
    "#Q2. Create a variable of list type containing 10 elements in it, and apply pandas.Series function on the\n",
    "#variable print it.\n",
    "\n",
    "data = [1, 3, 6, 6, 4, 4, 3, 8, 6, 1]\n",
    "series = pd.Series(data)\n",
    "print(series)"
   ]
  },
  {
   "cell_type": "code",
   "execution_count": 19,
   "id": "7aadee75-5cf7-4213-8b68-9a1f510168b1",
   "metadata": {},
   "outputs": [
    {
     "name": "stdout",
     "output_type": "stream",
     "text": [
      "     Name  Age  Gender\n",
      "0   Alice   25  Female\n",
      "1     Bob   30    Male\n",
      "2  Claire   27  Female\n"
     ]
    }
   ],
   "source": [
    "#Q3. Create a Pandas DataFrame that contains the following data:\n",
    "\n",
    "Name = ['Alice', 'Bob', 'Claire']\n",
    "Age = [25,30,27]\n",
    "Gender = ['Female', 'Male', 'Female']\n",
    "data = {'Name' : Name, 'Age':Age, 'Gender':Gender}\n",
    "final = pd.DataFrame(data)\n",
    "print(final)"
   ]
  },
  {
   "cell_type": "code",
   "execution_count": null,
   "id": "874a3c77-6c59-4054-ac73-c7b6eac8d337",
   "metadata": {},
   "outputs": [],
   "source": [
    "#Q4. What is ‘DataFrame’ in pandas and how is it different from pandas.series? Explain with an example.\n",
    "\n",
    "In Pandas, a DataFrame is a two-dimensional, tabular data structure with labeled axes (rows and columns). It is similar to a spreadsheet or SQL table, where data is organized in rows and columns. Each column in a DataFrame can be of a different data type (e.g., integer, float, string), and it provides flexibility and functionality for various data manipulation and analysis tasks.\n",
    "\n",
    "On the other hand, a Series is a one-dimensional labeled array capable of holding any data type. It can be thought of as a single column of a DataFrame. A DataFrame can be considered as a collection of Series."
   ]
  },
  {
   "cell_type": "code",
   "execution_count": 14,
   "id": "a6131ad4-c8ef-42fd-89a4-855685b9e062",
   "metadata": {},
   "outputs": [],
   "source": [
    "#Q5. What are some common functions you can use to manipulate data in a Pandas DataFrame? Can\n",
    "#you give an example of when you might use one of these functions?\n",
    "\n",
    "data = pd.read_csv('services.csv')\n",
    "print(data.head(2))\n",
    "print(data.tail(4))\n",
    "print(data.describe())  #summary statistics of numerical data\n",
    "print(data.info())\n",
    "print(data.sort_values(by = 'application_process'))\n",
    "dropped = data.drop(1)"
   ]
  },
  {
   "cell_type": "code",
   "execution_count": null,
   "id": "9f0b68b9-dcc0-40cc-848b-f8cd3f8af486",
   "metadata": {},
   "outputs": [],
   "source": [
    "#Q6. Which of the following is mutable in nature Series, DataFrame, Panel?\n",
    "\n",
    "DataFramme"
   ]
  },
  {
   "cell_type": "code",
   "execution_count": 15,
   "id": "6ab04225-03f9-4b36-b442-cf4197527afc",
   "metadata": {},
   "outputs": [
    {
     "name": "stdout",
     "output_type": "stream",
     "text": [
      "     Name  Age  Gender\n",
      "0   Alice   25  Female\n",
      "1     Bob   30    Male\n",
      "2  Claire   27  Female\n"
     ]
    }
   ],
   "source": [
    "# Q7. Create a DataFrame using multiple Series. Explain with an example.\n",
    "\n",
    "import pandas as pd\n",
    "\n",
    "# Creating multiple Pandas Series\n",
    "name_series = pd.Series(['Alice', 'Bob', 'Claire'], name='Name')\n",
    "age_series = pd.Series([25, 30, 27], name='Age')\n",
    "gender_series = pd.Series(['Female', 'Male', 'Female'], name='Gender')\n",
    "\n",
    "# Combining the Series into a dictionary\n",
    "data = {'Name': name_series, 'Age': age_series, 'Gender': gender_series}\n",
    "\n",
    "# Creating a DataFrame from the dictionary\n",
    "df = pd.DataFrame(data)\n",
    "\n",
    "# Printing the DataFrame\n",
    "print(df)\n"
   ]
  },
  {
   "cell_type": "code",
   "execution_count": null,
   "id": "60f8dbe7-99db-4c1c-9647-f7d390b9c5de",
   "metadata": {},
   "outputs": [],
   "source": []
  }
 ],
 "metadata": {
  "kernelspec": {
   "display_name": "Python 3 (ipykernel)",
   "language": "python",
   "name": "python3"
  },
  "language_info": {
   "codemirror_mode": {
    "name": "ipython",
    "version": 3
   },
   "file_extension": ".py",
   "mimetype": "text/x-python",
   "name": "python",
   "nbconvert_exporter": "python",
   "pygments_lexer": "ipython3",
   "version": "3.10.8"
  }
 },
 "nbformat": 4,
 "nbformat_minor": 5
}
